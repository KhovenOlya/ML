{
  "cells": [
    {
      "cell_type": "markdown",
      "metadata": {},
      "source": [
        "__РК1 Ховен Ольга Александровна ИУ5-62Б__\n",
        "\n",
        " \n",
        " __Вариант 17__\n",
        "\n",
        " \n",
        "__Задача 3__: Для заданного набора данных произведите масштабирование данных (для одного признака) и преобразование категориальных признаков в количественные двумя способами (label encoding, one hot encoding) для одного признака. Какие методы Вы использовали для решения задачи и почему?\n",
        "Датасет: https://scikit-learn.org/stable/modules/generated/sklearn.datasets.load_iris.html#sklearn.datasets.load_iris"
      ]
    },
    {
      "cell_type": "code",
      "execution_count": 80,
      "metadata": {
        "trusted": true
      },
      "outputs": [
        {
          "data": {
            "text/html": [
              "<div>\n",
              "<style scoped>\n",
              "    .dataframe tbody tr th:only-of-type {\n",
              "        vertical-align: middle;\n",
              "    }\n",
              "\n",
              "    .dataframe tbody tr th {\n",
              "        vertical-align: top;\n",
              "    }\n",
              "\n",
              "    .dataframe thead th {\n",
              "        text-align: right;\n",
              "    }\n",
              "</style>\n",
              "<table border=\"1\" class=\"dataframe\">\n",
              "  <thead>\n",
              "    <tr style=\"text-align: right;\">\n",
              "      <th></th>\n",
              "      <th>sepal length (cm)</th>\n",
              "      <th>sepal width (cm)</th>\n",
              "      <th>petal length (cm)</th>\n",
              "      <th>petal width (cm)</th>\n",
              "    </tr>\n",
              "  </thead>\n",
              "  <tbody>\n",
              "    <tr>\n",
              "      <th>0</th>\n",
              "      <td>5.1</td>\n",
              "      <td>3.5</td>\n",
              "      <td>1.4</td>\n",
              "      <td>0.2</td>\n",
              "    </tr>\n",
              "    <tr>\n",
              "      <th>1</th>\n",
              "      <td>4.9</td>\n",
              "      <td>3.0</td>\n",
              "      <td>1.4</td>\n",
              "      <td>0.2</td>\n",
              "    </tr>\n",
              "    <tr>\n",
              "      <th>2</th>\n",
              "      <td>4.7</td>\n",
              "      <td>3.2</td>\n",
              "      <td>1.3</td>\n",
              "      <td>0.2</td>\n",
              "    </tr>\n",
              "    <tr>\n",
              "      <th>3</th>\n",
              "      <td>4.6</td>\n",
              "      <td>3.1</td>\n",
              "      <td>1.5</td>\n",
              "      <td>0.2</td>\n",
              "    </tr>\n",
              "    <tr>\n",
              "      <th>4</th>\n",
              "      <td>5.0</td>\n",
              "      <td>3.6</td>\n",
              "      <td>1.4</td>\n",
              "      <td>0.2</td>\n",
              "    </tr>\n",
              "  </tbody>\n",
              "</table>\n",
              "</div>"
            ],
            "text/plain": [
              "   sepal length (cm)  sepal width (cm)  petal length (cm)  petal width (cm)\n",
              "0                5.1               3.5                1.4               0.2\n",
              "1                4.9               3.0                1.4               0.2\n",
              "2                4.7               3.2                1.3               0.2\n",
              "3                4.6               3.1                1.5               0.2\n",
              "4                5.0               3.6                1.4               0.2"
            ]
          },
          "execution_count": 80,
          "metadata": {},
          "output_type": "execute_result"
        }
      ],
      "source": [
        "from sklearn.datasets import load_iris\n",
        "import pandas as pd\n",
        "from sklearn.preprocessing import StandardScaler, LabelEncoder, OneHotEncoder\n",
        "\n",
        "iris = load_iris()\n",
        "data = pd.DataFrame(data=iris.data, columns=iris.feature_names)\n",
        "data.head()"
      ]
    },
    {
      "cell_type": "markdown",
      "metadata": {},
      "source": [
        "*Масштабирование данных*"
      ]
    },
    {
      "cell_type": "markdown",
      "metadata": {},
      "source": [
        "*Преобразование категориальных признаков в количественные*"
      ]
    },
    {
      "cell_type": "code",
      "execution_count": 81,
      "metadata": {
        "trusted": true
      },
      "outputs": [],
      "source": [
        "scaler = MinMaxScaler()\n",
        "scaled_X = scaler.fit_transform(data[['sepal length (cm)']])  # первый признак\n"
      ]
    },
    {
      "cell_type": "markdown",
      "metadata": {},
      "source": [
        " В данном случае используется метод MinMaxScaler для масштабирования значения первого признака (длина чашелистика) в диапазон от 0 до 1. Это часто используется для того, чтобы привести все признаки к одному масштабу."
      ]
    },
    {
      "cell_type": "code",
      "execution_count": 82,
      "metadata": {
        "trusted": true
      },
      "outputs": [],
      "source": [
        "label_encoder = LabelEncoder()\n",
        "encoded_y = label_encoder.fit_transform(iris.target)\n",
        "\n",
        "one_hot_encoder = OneHotEncoder()\n",
        "one_hot_y = one_hot_encoder.fit_transform(iris.target.reshape(-1, 1)).toarray()"
      ]
    },
    {
      "cell_type": "markdown",
      "metadata": {},
      "source": [
        "Label encoding  используется для преобразования категориальных значений целевой переменной (в данном случае, видов ириса) в числовые метки. Это необходимо для того, чтобы алгоритмы могли работать с этими данными, так как они  ожидают числовые значения.\n",
        "\n",
        "One hot encoding  также используется для преобразования категориальных значений целевой переменной в числовые, но мы предсталвяли каждую категорию  как бинарный вектор."
      ]
    },
    {
      "cell_type": "code",
      "execution_count": 86,
      "metadata": {
        "trusted": true
      },
      "outputs": [
        {
          "name": "stdout",
          "output_type": "stream",
          "text": [
            "Масштабирования данных: \n",
            "     sepal length (cm)\n",
            "0             0.222222\n",
            "1             0.166667\n",
            "2             0.111111\n",
            "3             0.083333\n",
            "4             0.194444\n",
            "..                 ...\n",
            "145           0.666667\n",
            "146           0.555556\n",
            "147           0.611111\n",
            "148           0.527778\n",
            "149           0.444444\n",
            "\n",
            "[150 rows x 1 columns]\n",
            "\n",
            " label encoding: \n",
            "     encoded_target\n",
            "0                 0\n",
            "1                 0\n",
            "2                 0\n",
            "3                 0\n",
            "4                 0\n",
            "..              ...\n",
            "145               2\n",
            "146               2\n",
            "147               2\n",
            "148               2\n",
            "149               2\n",
            "\n",
            "[150 rows x 1 columns]\n",
            "\n",
            " one hot encoding: \n",
            "     setosa  versicolor  virginica\n",
            "0       1.0         0.0        0.0\n",
            "1       1.0         0.0        0.0\n",
            "2       1.0         0.0        0.0\n",
            "3       1.0         0.0        0.0\n",
            "4       1.0         0.0        0.0\n",
            "..      ...         ...        ...\n",
            "145     0.0         0.0        1.0\n",
            "146     0.0         0.0        1.0\n",
            "147     0.0         0.0        1.0\n",
            "148     0.0         0.0        1.0\n",
            "149     0.0         0.0        1.0\n",
            "\n",
            "[150 rows x 3 columns]\n"
          ]
        }
      ],
      "source": [
        "print(\"Масштабирования данных: \")\n",
        "print(pd.DataFrame(scaled_X, columns=['sepal length (cm)']))\n",
        "\n",
        "print(\"\\n label encoding: \")\n",
        "print(pd.DataFrame(encoded_y, columns=['encoded_target']))\n",
        "print(\"\\n one hot encoding: \")\n",
        "print(pd.DataFrame(one_hot_y, columns=iris.target_names))"
      ]
    },
    {
      "cell_type": "markdown",
      "metadata": {},
      "source": [
        "__Дополнительные требования по группам:__\n",
        "\n",
        "Для студентов групп ИУ5-62Б, ИУ5Ц-82Б - для произвольной колонки данных построить гистограмму."
      ]
    },
    {
      "cell_type": "code",
      "execution_count": 91,
      "metadata": {
        "trusted": true
      },
      "outputs": [
        {
          "data": {
            "image/png": "[encoded data removed]",
            "text/plain": [
              "<Figure size 800x600 with 1 Axes>"
            ]
          },
          "metadata": {},
          "output_type": "display_data"
        }
      ],
      "source": [
        "import matplotlib.pyplot as plt\n",
        "\n",
        "column_name = 'sepal length (cm)'\n",
        "column_data = data[column_name]\n",
        "\n",
        "plt.figure(figsize=(8, 6))\n",
        "plt.hist(column_data, bins=20, color='skyblue', edgecolor='black')\n",
        "plt.title(f'Гистограмма для колонки {column_name}')\n",
        "plt.xlabel(f'Значения длины {column_name}')\n",
        "plt.ylabel('Количество значений')\n",
        "plt.grid(True)\n",
        "plt.show()\n"
      ]
    },
    {
      "cell_type": "code",
      "execution_count": null,
      "metadata": {
        "trusted": true
      },
      "outputs": [],
      "source": []
    }
  ],
  "metadata": {
    "kernelspec": {
      "display_name": "Python (Pyodide)",
      "language": "python",
      "name": "python"
    },
    "language_info": {
      "codemirror_mode": {
        "name": "python",
        "version": 3
      },
      "file_extension": ".py",
      "mimetype": "text/x-python",
      "name": "python",
      "nbconvert_exporter": "python",
      "pygments_lexer": "ipython3",
      "version": "3.8"
    }
  },
  "nbformat": 4,
  "nbformat_minor": 4
}
